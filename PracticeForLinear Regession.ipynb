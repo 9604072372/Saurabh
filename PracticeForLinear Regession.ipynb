{
 "cells": [
  {
   "cell_type": "markdown",
   "metadata": {},
   "source": [
    "# normal method for linear regression"
   ]
  },
  {
   "cell_type": "code",
   "execution_count": 34,
   "metadata": {},
   "outputs": [
    {
     "name": "stdout",
     "output_type": "stream",
     "text": [
      "[ 7.93194282  4.82886561  7.41476329  9.17317371 11.24189185  5.59429132\n",
      "  7.10445557  3.1738911   6.64933758  7.00101966  7.44786278  3.69107064\n",
      "  6.14457035  4.00137836  4.22066248  5.39983182  4.93230152  6.73622374\n",
      "  2.55327566  6.62037552  8.13881464]\n",
      "The inercept of y is:  -0.7566733660351259\n",
      "the slope is:  [0.41374363]\n"
     ]
    },
    {
     "data": {
      "text/plain": [
       "[<matplotlib.lines.Line2D at 0x18bc5be4438>]"
      ]
     },
     "execution_count": 34,
     "metadata": {},
     "output_type": "execute_result"
    },
    {
     "data": {
      "image/png": "[encoded data removed]",
      "text/plain": [
       "<Figure size 432x288 with 1 Axes>"
      ]
     },
     "metadata": {
      "needs_background": "light"
     },
     "output_type": "display_data"
    }
   ],
   "source": [
    "import numpy as np\n",
    "import pandas as pd\n",
    "import matplotlib.pyplot as plt\n",
    "\n",
    "from sklearn.linear_model import LinearRegression\n",
    "\n",
    "df = pd.read_csv('delivery_time.csv')\n",
    "df.columns\n",
    "x=df[['Delivery Time']]  #here should be 2 d array for independent variable  # when we do reshape ?\n",
    "y=df[\"Sorting Time\"]\n",
    "\n",
    "model = LinearRegression()\n",
    "model.fit(x,y)\n",
    "ypred=model.predict(x)\n",
    "print(ypred)\n",
    "print(\"The inercept of y is: \",model.intercept_)\n",
    "print('the slope is: ',model.coef_)\n",
    "plt.scatter(x,y)\n",
    "plt.plot(x,ypred,color=\"r\",marker='*')"
   ]
  },
  {
   "cell_type": "markdown",
   "metadata": {},
   "source": [
    "# train trst split method for linear regression"
   ]
  },
  {
   "cell_type": "code",
   "execution_count": 47,
   "metadata": {},
   "outputs": [
    {
     "name": "stdout",
     "output_type": "stream",
     "text": [
      "    Actual  predicted\n",
      "2        6   7.520451\n",
      "14       3   4.017655\n",
      "8       10   6.681050\n",
      "16       6   4.798070\n",
      "4       10  11.717453\n",
      "the intercept is:  -1.440717264547458\n",
      "the R square or accuracy is: 0.7399019733679104\n",
      "the accuracy for xtest and ytest is:  0.4789694335789755\n",
      "the slope or coefficient is: [0.45373002]\n"
     ]
    },
    {
     "data": {
      "text/plain": [
       "[<matplotlib.lines.Line2D at 0x18bc5fc0240>]"
      ]
     },
     "execution_count": 47,
     "metadata": {},
     "output_type": "execute_result"
    },
    {
     "data": {
      "image/png": "[encoded data removed]",
      "text/plain": [
       "<Figure size 432x288 with 1 Axes>"
      ]
     },
     "metadata": {
      "needs_background": "light"
     },
     "output_type": "display_data"
    }
   ],
   "source": [
    "import numpy as np\n",
    "import pandas as pd\n",
    "from sklearn.linear_model import LinearRegression\n",
    "from sklearn.model_selection import train_test_split\n",
    "import matplotlib.pyplot as plt\n",
    "\n",
    "df=pd.read_csv(\"delivery_time.csv\")\n",
    "df.columns\n",
    "# step 1\n",
    "x=df[['Delivery Time']]\n",
    "y=df['Sorting Time']\n",
    "plt.scatter(x,y)\n",
    "\n",
    "# step 2\n",
    "\n",
    "xtrain,xtest,ytrain,ytest=train_test_split(x,y,test_size=0.2)\n",
    "\n",
    "# step 3\n",
    "\n",
    "model = LinearRegression()\n",
    "model.fit(xtrain,ytrain)\n",
    "\n",
    "#step 4 prediction\n",
    "ypred = model.predict(xtest)\n",
    "data = pd.DataFrame({\"Actual\":ytest,\"predicted\":ypred})\n",
    "print(data)\n",
    "print(\"the intercept is: \",model.intercept_)\n",
    "print(\"the R square or accuracy is:\",model.score(xtrain,ytrain))\n",
    "print(\"the accuracy for xtest and ytest is: \",model.score(xtest,ytest))\n",
    "print(\"the slope or coefficient is:\",model.coef_)\n",
    "plt.plot(xtest,ypred,color=\"r\",marker=\"*\")"
   ]
  },
  {
   "cell_type": "code",
   "execution_count": null,
   "metadata": {},
   "outputs": [],
   "source": []
  },
  {
   "cell_type": "code",
   "execution_count": null,
   "metadata": {},
   "outputs": [],
   "source": []
  }
 ],
 "metadata": {
  "kernelspec": {
   "display_name": "Python 3",
   "language": "python",
   "name": "python3"
  },
  "language_info": {
   "codemirror_mode": {
    "name": "ipython",
    "version": 3
   },
   "file_extension": ".py",
   "mimetype": "text/x-python",
   "name": "python",
   "nbconvert_exporter": "python",
   "pygments_lexer": "ipython3",
   "version": "3.7.3"
  }
 },
 "nbformat": 4,
 "nbformat_minor": 2
}
